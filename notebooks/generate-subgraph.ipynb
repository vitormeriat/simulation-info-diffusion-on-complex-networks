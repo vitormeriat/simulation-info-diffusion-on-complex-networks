{
 "cells": [
  {
   "cell_type": "code",
   "execution_count": 1,
   "metadata": {},
   "outputs": [],
   "source": [
    "import networkx as nx\n",
    "import numpy as np\n",
    "import utils as utl\n",
    "import json\n",
    "import matplotlib.pyplot as plt\n",
    "import logging\n",
    "import datetime as dt\n",
    "import humanize"
   ]
  },
  {
   "cell_type": "code",
   "execution_count": 2,
   "metadata": {},
   "outputs": [],
   "source": [
    "logging.basicConfig(filename='log-metrics.txt',\n",
    "                            filemode='a',\n",
    "                            format='%(asctime)s [%(levelname)s]: %(message)s',\n",
    "                            #format='%(asctime)s,%(msecs)d %(name)s %(levelname)s: %(message)s',\n",
    "                            datefmt='%H:%M:%S',\n",
    "                            level=logging.DEBUG)\n",
    "logging.info(\"\")"
   ]
  },
  {
   "cell_type": "markdown",
   "metadata": {},
   "source": [
    "## Stats\n",
    "\n",
    "| network_name | Number of nodes | Number of edges |\n",
    "|---|---|---|\n",
    "| soc-youtube.mtx | 495.957 | 1.936.748 |\n",
    "| soc-twitter-follows.mtx | 404.719 | 713.319 |\n",
    "| soc-academia.edges | 200.169 | 1.022.883 |\n",
    "| soc-Slashdot0902.txt.gz | 82.168 | 582.533 |\n",
    "| twitter_combined.txt.gz | 81.306 | 1.342.310 |\n",
    "| socfb-OR.mtx | 63.392 | 816.886 |\n",
    "| socfb-UF21.mtx | 35.123 | 1.465.660 |\n",
    "| **`socfb-Rutgers89.mtx`** | 24.580 | 784.602 |\n",
    "| **`wiki-Vote.txt.gz`** | 7.115 | 103.689 |\n",
    "| **`socfb-Bowdoin47.mtx`** | 2.252 | 84.387 |\n",
    "| **`socfb-Simmons81.mtx`** | 1.518 | 32.988 |\n",
    "| **`socfb-Haverford76.mtx`** | 1.446 | 59.589 |\n",
    "\n"
   ]
  },
  {
   "cell_type": "code",
   "execution_count": 3,
   "metadata": {},
   "outputs": [],
   "source": [
    "logging.info(\"\\nStar process ============================================================\")\n",
    "\n",
    "#network_name = \"socfb-Simmons81.mtx\"\n",
    "#network_name = \"socfb-Bowdoin47.mtx\"\n",
    "#network_name = \"socfb-Haverford76.mtx\"\n",
    "#network_name = \"fb1.txt\"\n",
    "#network_name = \"fb2.txt\"\n",
    "#network_name = \"fb3.txt\"\n",
    "#network_name = \"fb4.txt\"\n",
    "#network_name = \"wiki-Vote.txt.gz\"\n",
    "#network_name = \"socfb-Rutgers89.mtx\"\n",
    "\n",
    "network_name = \"soc-twitter-follows.mtx\" # Number of nodes: 404719 Number of edges: 713319\n",
    "\n",
    "#network_name = \"twitter_combined.txt.gz\"\n",
    "#network_name = \"soc-youtube.mtx\"\n",
    "#network_name = \"soc-academia.edges\"\n",
    "#network_name = \"socfb-OR.mtx\"\n",
    "#network_name = \"soc-Slashdot0902.txt.gz\"\n",
    "#network_name = \"socfb-UF21.mtx\"\n",
    "\n",
    "\n",
    "logging.info(network_name)"
   ]
  },
  {
   "cell_type": "code",
   "execution_count": 4,
   "metadata": {},
   "outputs": [
    {
     "name": "stdout",
     "output_type": "stream",
     "text": [
      "Name: \n",
      "Type: Graph\n",
      "Number of nodes: 404719\n",
      "Number of edges: 713319\n",
      "Average degree:   3.5250\n"
     ]
    }
   ],
   "source": [
    "G = nx.read_adjlist(f'data/{network_name}', nodetype=int)\n",
    "\n",
    "original_info = nx.info(G)\n",
    "print(original_info)"
   ]
  },
  {
   "cell_type": "code",
   "execution_count": 5,
   "metadata": {},
   "outputs": [],
   "source": [
    "logging.info(f'Original Network Info:\\n{original_info}')"
   ]
  },
  {
   "cell_type": "code",
   "execution_count": 6,
   "metadata": {},
   "outputs": [],
   "source": [
    "dts = dt.datetime.now()\n",
    "\n",
    "#if nx.is_connected(G) == False:\n",
    "#    cc = nx.connected_components(G)\n",
    "#    print('Subgraphs generated')\n",
    "#else:\n",
    "#    print('Is connected')\n",
    "cc = nx.connected_components(G)\n",
    "logging.info(f'Extract Connected Components')"
   ]
  },
  {
   "cell_type": "code",
   "execution_count": 7,
   "metadata": {},
   "outputs": [],
   "source": [
    "def connected_components(graph):\n",
    "    \"\"\"\n",
    "    Returns basic statistics about the connected components of the\n",
    "    graph. This includes their number, order, size, diameter, radius,\n",
    "    average clusttering coefficient, transitivity, in addition to basic\n",
    "    info about the largest and smallest connected components.\n",
    "    \"\"\"\n",
    "    subgraph_stats = {'size':None}\n",
    "    new_graph=None\n",
    "    for index, component in enumerate(cc):\n",
    "        size = len(graph.edges(component))\n",
    "\n",
    "        if subgraph_stats[\"size\"] == None or subgraph_stats[\"size\"] < size:\n",
    "            subgraph_stats[\"order\"] = len(component)\n",
    "            subgraph_stats[\"size\"] = size\n",
    "\n",
    "            subgraph = graph.subgraph(component)\n",
    "            subgraph_stats[\"avg_cluster\"] = nx.average_clustering(subgraph)\n",
    "            subgraph_stats[\"transitivity\"] = nx.transitivity(subgraph)\n",
    "\n",
    "            eccentricity = nx.eccentricity(subgraph)\n",
    "            ecc_values = eccentricity.values()\n",
    "            subgraph_stats[\"diameter\"] = max(ecc_values)\n",
    "            subgraph_stats[\"radius\"] = min(ecc_values)\n",
    "            new_graph = subgraph\n",
    "    return subgraph_stats, new_graph"
   ]
  },
  {
   "cell_type": "code",
   "execution_count": null,
   "metadata": {},
   "outputs": [],
   "source": [
    "%%time\n",
    "\n",
    "dts = dt.datetime.now()\n",
    "stats, subgraph = connected_components(G)\n",
    "logging.info(f'Calculation of the largest sub graph: {humanize.precisedelta(dts-dt.datetime.now())}')"
   ]
  },
  {
   "cell_type": "code",
   "execution_count": null,
   "metadata": {},
   "outputs": [],
   "source": [
    "subgraph_info = nx.info(subgraph)\n",
    "logging.info(f'Subgraph Info:\\n{subgraph_info}')\n",
    "print(subgraph_info)"
   ]
  },
  {
   "cell_type": "code",
   "execution_count": null,
   "metadata": {},
   "outputs": [],
   "source": [
    "logging.info(f'Subgraph Stats:\\n{stats}')"
   ]
  },
  {
   "cell_type": "raw",
   "metadata": {},
   "source": [
    "subgraph"
   ]
  },
  {
   "cell_type": "raw",
   "metadata": {
    "jupyter": {
     "source_hidden": true
    }
   },
   "source": [
    "config = utl.EnumResult()\n",
    "\n",
    "def print_graph(name, G):\n",
    "    print(f'\\n{name}\\tNodes: {G.number_of_nodes()}\\tEdges: {G.number_of_edges()}')\n",
    "    \n",
    "def graph_resume(G):\n",
    "    GN = utl.network_statistics(G)\n",
    "    print('\\n\\n'+json.dumps(GN, indent=2)+'\\n')\n",
    "    \n",
    "    if GN['number_of_edges'] < 80000:\n",
    "        plt.figure(figsize=(22,18))\n",
    "        pos = nx.spring_layout(G)\n",
    "        nx.draw_networkx_nodes(G, pos, node_color=\"b\", alpha=0.3)\n",
    "        nx.draw_networkx_edges(G, pos, node_size=500)\n",
    "        plt.axis('off')\n",
    "        plt.show()"
   ]
  },
  {
   "cell_type": "raw",
   "metadata": {
    "jupyter": {
     "source_hidden": true
    }
   },
   "source": [
    "graph_resume(subgraph)"
   ]
  },
  {
   "cell_type": "code",
   "execution_count": null,
   "metadata": {},
   "outputs": [],
   "source": [
    "network_name = network_name.split('.')[0]"
   ]
  },
  {
   "cell_type": "code",
   "execution_count": null,
   "metadata": {},
   "outputs": [],
   "source": [
    "nx.write_gexf(subgraph, f\"{network_name}.gexf\")\n",
    "logging.info(f\"Generate {network_name}.gexf\")"
   ]
  },
  {
   "cell_type": "code",
   "execution_count": null,
   "metadata": {},
   "outputs": [],
   "source": [
    "TG = nx.read_gexf(f\"{network_name}.gexf\")"
   ]
  },
  {
   "cell_type": "code",
   "execution_count": null,
   "metadata": {},
   "outputs": [],
   "source": [
    "print(nx.info(TG))"
   ]
  },
  {
   "cell_type": "code",
   "execution_count": null,
   "metadata": {},
   "outputs": [],
   "source": [
    "logging.info(f\"Process Done for {network_name}\")"
   ]
  },
  {
   "cell_type": "code",
   "execution_count": null,
   "metadata": {},
   "outputs": [],
   "source": []
  }
 ],
 "metadata": {
  "kernelspec": {
   "display_name": "Python 3",
   "language": "python",
   "name": "python3"
  },
  "language_info": {
   "codemirror_mode": {
    "name": "ipython",
    "version": 3
   },
   "file_extension": ".py",
   "mimetype": "text/x-python",
   "name": "python",
   "nbconvert_exporter": "python",
   "pygments_lexer": "ipython3",
   "version": "3.8.3"
  }
 },
 "nbformat": 4,
 "nbformat_minor": 4
}
