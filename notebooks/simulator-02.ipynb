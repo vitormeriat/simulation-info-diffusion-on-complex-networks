{
 "cells": [
  {
   "cell_type": "markdown",
   "metadata": {},
   "source": [
    "# Network SIR Simulator"
   ]
  },
  {
   "cell_type": "code",
   "execution_count": 1,
   "metadata": {},
   "outputs": [],
   "source": [
    "import networkx as nx\n",
    "\n",
    "def print_graph(name, G):\n",
    "    print(f'\\n{name}\\tNodes: {G.number_of_nodes()}\\tEdges: {G.number_of_edges()}')"
   ]
  },
  {
   "cell_type": "markdown",
   "metadata": {},
   "source": [
    "#### snap-Ego"
   ]
  },
  {
   "cell_type": "code",
   "execution_count": 9,
   "metadata": {},
   "outputs": [
    {
     "name": "stdout",
     "output_type": "stream",
     "text": [
      "Name: \n",
      "Type: Graph\n",
      "Number of nodes: 4039\n",
      "Number of edges: 88234\n",
      "Average degree:  43.6910\n",
      "Wall time: 697 ms\n"
     ]
    }
   ],
   "source": [
    "%%time\n",
    "\n",
    "G = nx.read_edgelist(\"../data/facebook_combined.txt.gz\", create_using=nx.Graph(), nodetype=int)\n",
    "print(nx.info(G))"
   ]
  },
  {
   "cell_type": "markdown",
   "metadata": {},
   "source": [
    "#### socfb-Bowdoin47"
   ]
  },
  {
   "cell_type": "code",
   "execution_count": 10,
   "metadata": {},
   "outputs": [
    {
     "name": "stdout",
     "output_type": "stream",
     "text": [
      "Name: \n",
      "Type: DiGraph\n",
      "Number of nodes: 2252\n",
      "Number of edges: 84387\n",
      "Average in degree:  37.4720\n",
      "Average out degree:  37.4720\n"
     ]
    }
   ],
   "source": [
    "G = nx.read_adjlist(\"../data/socfb-Bowdoin47.mtx\", create_using=nx.DiGraph(), nodetype=int)\n",
    "print(nx.info(G))"
   ]
  },
  {
   "cell_type": "markdown",
   "metadata": {},
   "source": [
    "#### socfb-Haverford76"
   ]
  },
  {
   "cell_type": "code",
   "execution_count": 11,
   "metadata": {},
   "outputs": [
    {
     "name": "stdout",
     "output_type": "stream",
     "text": [
      "Name: \n",
      "Type: DiGraph\n",
      "Number of nodes: 1446\n",
      "Number of edges: 59589\n",
      "Average in degree:  41.2095\n",
      "Average out degree:  41.2095\n"
     ]
    }
   ],
   "source": [
    "G = nx.read_adjlist(\"../data/socfb-Haverford76.mtx\", create_using=nx.DiGraph(), nodetype=int)\n",
    "print(nx.info(G))"
   ]
  },
  {
   "cell_type": "markdown",
   "metadata": {},
   "source": [
    "#### socfb-Simmons81"
   ]
  },
  {
   "cell_type": "code",
   "execution_count": 12,
   "metadata": {},
   "outputs": [
    {
     "name": "stdout",
     "output_type": "stream",
     "text": [
      "Name: \n",
      "Type: DiGraph\n",
      "Number of nodes: 1518\n",
      "Number of edges: 32988\n",
      "Average in degree:  21.7312\n",
      "Average out degree:  21.7312\n"
     ]
    }
   ],
   "source": [
    "G = nx.read_adjlist(\"../data/socfb-Simmons81.mtx\", create_using=nx.DiGraph(), nodetype=int)\n",
    "print(nx.info(G))"
   ]
  },
  {
   "cell_type": "code",
   "execution_count": 13,
   "metadata": {},
   "outputs": [
    {
     "name": "stdout",
     "output_type": "stream",
     "text": [
      "Name: \n",
      "Type: Graph\n",
      "Number of nodes: 81306\n",
      "Number of edges: 1342310\n",
      "Average degree:  33.0187\n",
      "Wall time: 9.8 s\n"
     ]
    }
   ],
   "source": [
    "%%time\n",
    "\n",
    "G = nx.read_edgelist(\"../data/twitter_combined.txt.gz\", create_using=nx.Graph(), nodetype=int)\n",
    "print(nx.info(G))"
   ]
  },
  {
   "cell_type": "markdown",
   "metadata": {},
   "source": [
    "### Erdos-Renyi\n",
    "\n",
    "* **`nodes`** = number of nodes\n",
    "* **`probability`** = probability of edge creation"
   ]
  },
  {
   "cell_type": "code",
   "execution_count": 14,
   "metadata": {},
   "outputs": [
    {
     "name": "stdout",
     "output_type": "stream",
     "text": [
      "\n",
      "EGO\tNodes: 4039\tEdges: 88162\n",
      "\n",
      "Bowdoin47\tNodes: 2252\tEdges: 83677\n",
      "\n",
      "Haverford76\tNodes: 1446\tEdges: 59397\n",
      "\n",
      "Simmons81\tNodes: 1518\tEdges: 33136\n"
     ]
    }
   ],
   "source": [
    "print_graph('EGO', nx.gnp_random_graph(4039, 0.01083))\n",
    "print_graph('Bowdoin47', nx.gnp_random_graph(2252, 0.0331))\n",
    "print_graph('Haverford76', nx.gnp_random_graph(1446, 0.05683))\n",
    "print_graph('Simmons81', nx.gnp_random_graph(1518, 0.02883))"
   ]
  },
  {
   "cell_type": "code",
   "execution_count": 15,
   "metadata": {},
   "outputs": [
    {
     "name": "stdout",
     "output_type": "stream",
     "text": [
      "\n",
      "Twitter\tNodes: 81306\tEdges: 1454946\n",
      "Wall time: 5min 43s\n"
     ]
    }
   ],
   "source": [
    "%%time\n",
    "\n",
    "print_graph('Twitter', nx.gnp_random_graph(81306, 0.00044))"
   ]
  },
  {
   "cell_type": "markdown",
   "metadata": {},
   "source": [
    "### Barabasi-Albert\n",
    "\n",
    "* **`nodes`** = number of nodes\n",
    "* **`edges`** = number of edge for each additional node"
   ]
  },
  {
   "cell_type": "code",
   "execution_count": 16,
   "metadata": {},
   "outputs": [
    {
     "name": "stdout",
     "output_type": "stream",
     "text": [
      "\n",
      "EGO\tNodes: 4039\tEdges: 88374\n",
      "\n",
      "Bowdoin47\tNodes: 2252\tEdges: 81955\n",
      "\n",
      "Haverford76\tNodes: 1446\tEdges: 58968\n",
      "\n",
      "Simmons81\tNodes: 1518\tEdges: 32912\n"
     ]
    }
   ],
   "source": [
    "print_graph('EGO', nx.barabasi_albert_graph(4039, 22))\n",
    "print_graph('Bowdoin47', nx.barabasi_albert_graph(2252, 37))\n",
    "print_graph('Haverford76', nx.barabasi_albert_graph(1446, 42))\n",
    "print_graph('Simmons81', nx.barabasi_albert_graph(1518, 22))"
   ]
  },
  {
   "cell_type": "code",
   "execution_count": 24,
   "metadata": {},
   "outputs": [
    {
     "name": "stdout",
     "output_type": "stream",
     "text": [
      "\n",
      "Twitter\tNodes: 81306\tEdges: 1381913\n",
      "Wall time: 5.02 s\n"
     ]
    }
   ],
   "source": [
    "%%time\n",
    "\n",
    "print_graph('Twitter', nx.barabasi_albert_graph(81306, 17))"
   ]
  },
  {
   "cell_type": "markdown",
   "metadata": {},
   "source": [
    "### Watts-Strogatz\n",
    "\n",
    "* **`nodes`** = number of nodes\n",
    "* **`edges`** = number of nearby links\n",
    "* **`probability`** = probability of rewiring a link to a far away node"
   ]
  },
  {
   "cell_type": "code",
   "execution_count": 86,
   "metadata": {},
   "outputs": [
    {
     "name": "stdout",
     "output_type": "stream",
     "text": [
      "\n",
      "EGO\tNodes: 4039\tEdges: 88858\n",
      "\n",
      "Bowdoin47\tNodes: 2252\tEdges: 83324\n",
      "\n",
      "Haverford76\tNodes: 1446\tEdges: 59286\n",
      "\n",
      "Simmons81\tNodes: 1518\tEdges: 33396\n"
     ]
    }
   ],
   "source": [
    "print_graph('EGO', nx.watts_strogatz_graph(4039, 45, 0.4))\n",
    "print_graph('Bowdoin47', nx.watts_strogatz_graph(2252, 75, 0.4))\n",
    "print_graph('Haverford76', nx.watts_strogatz_graph(1446, 83, 0.4))\n",
    "print_graph('Simmons81', nx.watts_strogatz_graph(1518, 44, 0.4))"
   ]
  },
  {
   "cell_type": "code",
   "execution_count": 30,
   "metadata": {},
   "outputs": [
    {
     "name": "stdout",
     "output_type": "stream",
     "text": [
      "\n",
      "Twitter\tNodes: 81306\tEdges: 1382202\n",
      "Wall time: 5.07 s\n"
     ]
    }
   ],
   "source": [
    "%%time\n",
    "\n",
    "print_graph('Twitter', nx.watts_strogatz_graph(81306, 34, 0.4))"
   ]
  },
  {
   "cell_type": "markdown",
   "metadata": {},
   "source": [
    "### Facebook "
   ]
  },
  {
   "cell_type": "code",
   "execution_count": 9,
   "metadata": {},
   "outputs": [
    {
     "name": "stdout",
     "output_type": "stream",
     "text": [
      "Number of nodes: 4039\n",
      "Number of edges: 88234\n"
     ]
    }
   ],
   "source": [
    "G = graph.create_net_facebook()\n",
    "print_graph(G)"
   ]
  },
  {
   "cell_type": "markdown",
   "metadata": {},
   "source": [
    "# Simulation configuration\n",
    "\n",
    "* **`beta`** = transmission rate\n",
    "* **`gamma`** = recovery rate\n",
    "* **`tmax`** = time in seconds for the computer to run the simulation\n",
    "* **`rho`** = initial fraction infected"
   ]
  },
  {
   "cell_type": "code",
   "execution_count": 10,
   "metadata": {},
   "outputs": [
    {
     "name": "stdout",
     "output_type": "stream",
     "text": [
      "Métricas iniciais da rede...\n",
      "\n",
      "Name: \n",
      "Type: Graph\n",
      "Number of nodes: 4039\n",
      "Number of edges: 88234\n",
      "Average degree:  43.6910\n",
      "\n",
      "                                 Process    Time\n",
      "========================================    =========================\n",
      "                                 Density     0.0019989013671875\n",
      "                                Diameter     60.028135538101196\n",
      "                                  Radius     59.54337477684021\n",
      "            Average shortest path length     59.76729774475098\n",
      "                          Average Degree     0.002996683120727539\n",
      "\n",
      "| metric                                   |   result |\n",
      "|------------------------------------------|----------|\n",
      "| Density                                  |  0.01082 |\n",
      "| Diameter                                 |  8       |\n",
      "| Radius                                   |  4       |\n",
      "| Average Shortest_path                    |  3.69251 |\n",
      "| Average Degree                           | 43.691   |\n",
      "| This Graph is connected?                 |  1       |\n",
      "| Number of different connected components |  1       |\n"
     ]
    }
   ],
   "source": [
    "graph.configuration(\n",
    "        network=G,\n",
    "        gamma=0.2,\n",
    "        beta=1.2,\n",
    "        R_0=0.005,\n",
    "        tmax=30)"
   ]
  },
  {
   "cell_type": "raw",
   "metadata": {},
   "source": [
    "simulation = ns.Simulation(name='001_ed', num_simulations=5)\n",
    "simulation.initialize(graph)\n",
    "simulation.simulate()"
   ]
  },
  {
   "cell_type": "code",
   "execution_count": null,
   "metadata": {},
   "outputs": [],
   "source": []
  }
 ],
 "metadata": {
  "kernelspec": {
   "display_name": "Python 3",
   "language": "python",
   "name": "python3"
  },
  "language_info": {
   "codemirror_mode": {
    "name": "ipython",
    "version": 3
   },
   "file_extension": ".py",
   "mimetype": "text/x-python",
   "name": "python",
   "nbconvert_exporter": "python",
   "pygments_lexer": "ipython3",
   "version": "3.8.3"
  }
 },
 "nbformat": 4,
 "nbformat_minor": 4
}
