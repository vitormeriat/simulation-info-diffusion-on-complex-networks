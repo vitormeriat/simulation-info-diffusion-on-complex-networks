{
 "cells": [
  {
   "cell_type": "markdown",
   "metadata": {},
   "source": [
    "# Network SIR Simulator"
   ]
  },
  {
   "cell_type": "code",
   "execution_count": 4,
   "metadata": {},
   "outputs": [],
   "source": [
    "# Simulation package\n",
    "import net_sir_sim as ns\n",
    "\n",
    "def print_graph(G):\n",
    "    print(f'Number of nodes: {G.number_of_nodes()}\\nNumber of edges: {G.number_of_edges()}')"
   ]
  },
  {
   "cell_type": "code",
   "execution_count": 5,
   "metadata": {},
   "outputs": [],
   "source": [
    "# Instantiate the graph creation and configuration class\n",
    "graph = ns.Graph()"
   ]
  },
  {
   "cell_type": "markdown",
   "metadata": {},
   "source": [
    "### Erdos-Renyi\n",
    "\n",
    "* **`nodes`** = number of nodes\n",
    "* **`probability`** = probability of edge creation"
   ]
  },
  {
   "cell_type": "code",
   "execution_count": 6,
   "metadata": {},
   "outputs": [
    {
     "name": "stdout",
     "output_type": "stream",
     "text": [
      "Number of nodes: 4039\n",
      "Number of edges: 87626\n"
     ]
    }
   ],
   "source": [
    "G = graph.create_net_erdos_renyi(nodes=4039, probability=0.01083)\n",
    "print_graph(G)"
   ]
  },
  {
   "cell_type": "markdown",
   "metadata": {},
   "source": [
    "### Barabasi-Albert\n",
    "\n",
    "* **`nodes`** = number of nodes\n",
    "* **`edges`** = number of edge for each additional node"
   ]
  },
  {
   "cell_type": "code",
   "execution_count": 7,
   "metadata": {},
   "outputs": [
    {
     "name": "stdout",
     "output_type": "stream",
     "text": [
      "Number of nodes: 4039\n",
      "Number of edges: 88374\n"
     ]
    }
   ],
   "source": [
    "G = graph.create_net_barabasi_albert(nodes=4039, edges=22)\n",
    "print_graph(G)"
   ]
  },
  {
   "cell_type": "markdown",
   "metadata": {},
   "source": [
    "### Watts-Strogatz\n",
    "\n",
    "* **`nodes`** = number of nodes\n",
    "* **`edges`** = number of nearby links\n",
    "* **`probability`** = probability of rewiring a link to a far away node"
   ]
  },
  {
   "cell_type": "code",
   "execution_count": 8,
   "metadata": {},
   "outputs": [
    {
     "name": "stdout",
     "output_type": "stream",
     "text": [
      "Number of nodes: 4039\n",
      "Number of edges: 88858\n"
     ]
    }
   ],
   "source": [
    "G = graph.create_net_watts_strogatz(nodes=4039, edges=45, probability=0.4)\n",
    "print_graph(G)"
   ]
  },
  {
   "cell_type": "markdown",
   "metadata": {},
   "source": [
    "### Facebook "
   ]
  },
  {
   "cell_type": "code",
   "execution_count": 9,
   "metadata": {},
   "outputs": [
    {
     "name": "stdout",
     "output_type": "stream",
     "text": [
      "Number of nodes: 4039\n",
      "Number of edges: 88234\n"
     ]
    }
   ],
   "source": [
    "G = graph.create_net_facebook()\n",
    "print_graph(G)"
   ]
  },
  {
   "cell_type": "markdown",
   "metadata": {},
   "source": [
    "# Simulation configuration\n",
    "\n",
    "* **`beta`** = transmission rate\n",
    "* **`gamma`** = recovery rate\n",
    "* **`tmax`** = time in seconds for the computer to run the simulation\n",
    "* **`rho`** = initial fraction infected"
   ]
  },
  {
   "cell_type": "code",
   "execution_count": 10,
   "metadata": {},
   "outputs": [
    {
     "name": "stdout",
     "output_type": "stream",
     "text": [
      "Métricas iniciais da rede...\n",
      "\n",
      "Name: \n",
      "Type: Graph\n",
      "Number of nodes: 4039\n",
      "Number of edges: 88234\n",
      "Average degree:  43.6910\n",
      "\n",
      "                                 Process    Time\n",
      "========================================    =========================\n",
      "                                 Density     0.0019989013671875\n",
      "                                Diameter     60.028135538101196\n",
      "                                  Radius     59.54337477684021\n",
      "            Average shortest path length     59.76729774475098\n",
      "                          Average Degree     0.002996683120727539\n",
      "\n",
      "| metric                                   |   result |\n",
      "|------------------------------------------|----------|\n",
      "| Density                                  |  0.01082 |\n",
      "| Diameter                                 |  8       |\n",
      "| Radius                                   |  4       |\n",
      "| Average Shortest_path                    |  3.69251 |\n",
      "| Average Degree                           | 43.691   |\n",
      "| This Graph is connected?                 |  1       |\n",
      "| Number of different connected components |  1       |\n"
     ]
    }
   ],
   "source": [
    "graph.configuration(\n",
    "        network=G,\n",
    "        gamma=0.2,\n",
    "        beta=1.2,\n",
    "        R_0=0.005,\n",
    "        tmax=30)"
   ]
  },
  {
   "cell_type": "raw",
   "metadata": {},
   "source": [
    "simulation = ns.Simulation(name='001_ed', num_simulations=5)\n",
    "simulation.initialize(graph)\n",
    "simulation.simulate()"
   ]
  },
  {
   "cell_type": "code",
   "execution_count": null,
   "metadata": {},
   "outputs": [],
   "source": []
  }
 ],
 "metadata": {
  "kernelspec": {
   "display_name": "Python 3",
   "language": "python",
   "name": "python3"
  },
  "language_info": {
   "codemirror_mode": {
    "name": "ipython",
    "version": 3
   },
   "file_extension": ".py",
   "mimetype": "text/x-python",
   "name": "python",
   "nbconvert_exporter": "python",
   "pygments_lexer": "ipython3",
   "version": "3.8.3"
  }
 },
 "nbformat": 4,
 "nbformat_minor": 4
}
